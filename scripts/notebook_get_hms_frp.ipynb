{
  "cells": [
    {
      "cell_type": "markdown",
      "metadata": {
        "id": "view-in-github",
        "colab_type": "text"
      },
      "source": [
        "<a href=\"https://colab.research.google.com/github/purpal9/goesFRP_ukmet/blob/main/notebook_get_hms_frp.ipynb\" target=\"_parent\"><img src=\"https://colab.research.google.com/assets/colab-badge.svg\" alt=\"Open In Colab\"/></a>"
      ]
    },
    {
      "cell_type": "code",
      "source": [
        "!pip install wget"
      ],
      "metadata": {
        "colab": {
          "base_uri": "https://localhost:8080/"
        },
        "id": "CBcsLd3n-m6n",
        "outputId": "2f04cbce-9500-4077-8c2e-103017e5757f"
      },
      "id": "CBcsLd3n-m6n",
      "execution_count": 1,
      "outputs": [
        {
          "output_type": "stream",
          "name": "stdout",
          "text": [
            "Collecting wget\n",
            "  Downloading wget-3.2.zip (10 kB)\n",
            "  Preparing metadata (setup.py) ... \u001b[?25l\u001b[?25hdone\n",
            "Building wheels for collected packages: wget\n",
            "  Building wheel for wget (setup.py) ... \u001b[?25l\u001b[?25hdone\n",
            "  Created wheel for wget: filename=wget-3.2-py3-none-any.whl size=9656 sha256=2be0e81b4b8e737eb2160ebcf547d912c97be9df55da283fcc49ae8ecf0fbd67\n",
            "  Stored in directory: /root/.cache/pip/wheels/40/b3/0f/a40dbd1c6861731779f62cc4babcb234387e11d697df70ee97\n",
            "Successfully built wget\n",
            "Installing collected packages: wget\n",
            "Successfully installed wget-3.2\n"
          ]
        }
      ]
    },
    {
      "cell_type": "code",
      "execution_count": 2,
      "id": "048911f1-d7d7-4594-9a34-8f4388326b1c",
      "metadata": {
        "id": "048911f1-d7d7-4594-9a34-8f4388326b1c"
      },
      "outputs": [],
      "source": [
        "import geopandas\n",
        "import pytz\n",
        "from datetime import datetime\n",
        "import os\n",
        "import shutil\n",
        "import wget\n",
        "import numpy as np\n",
        "import matplotlib.pyplot as plt"
      ]
    },
    {
      "cell_type": "code",
      "execution_count": 11,
      "id": "37d8aa4f-d8f7-4b01-b1ad-11b01518c68b",
      "metadata": {
        "id": "37d8aa4f-d8f7-4b01-b1ad-11b01518c68b"
      },
      "outputs": [],
      "source": [
        "def get_frp_fn_url(dt):\n",
        "    tt = dt.timetuple()\n",
        "    month = str(tt.tm_mon).zfill(2)\n",
        "    day = str(tt.tm_mday).zfill(2)\n",
        "    yr = str(tt.tm_year)\n",
        "    fn = 'hms_fire{}{}{}.zip'.format(yr, month, day)\n",
        "    url = 'https://satepsanone.nesdis.noaa.gov/pub/FIRE/web/HMS/Fire_Points/Shapefile/{}/{}/{}'.format(yr, month, fn)\n",
        "    return fn, url"
      ]
    },
    {
      "cell_type": "code",
      "execution_count": 14,
      "id": "8878db85-b0e6-44a7-a895-ea83c8650624",
      "metadata": {
        "id": "8878db85-b0e6-44a7-a895-ea83c8650624"
      },
      "outputs": [],
      "source": [
        "def get_frp(dt, frp_dir):\n",
        "    fn, url = get_frp_fn_url(dt)\n",
        "    frp_shape_fn = frp_dir + fn\n",
        "    print(frp_shape_fn)\n",
        "    if os.path.exists(frp_shape_fn):\n",
        "        print(\"{} already exists\".format(fn))\n",
        "    else:\n",
        "        print('DOWNLOADING frp: {}'.format(fn))\n",
        "        filename = wget.download(url, out=frp_dir)\n",
        "        shutil.unpack_archive(filename, frp_dir)\n",
        "    frp = geopandas.read_file(frp_shape_fn)\n",
        "    return frp\n"
      ]
    },
    {
      "cell_type": "code",
      "execution_count": 19,
      "id": "7879ebdd-23ff-414f-9a97-04663bf4902b",
      "metadata": {
        "colab": {
          "base_uri": "https://localhost:8080/"
        },
        "id": "7879ebdd-23ff-414f-9a97-04663bf4902b",
        "outputId": "b82e1def-d77c-42c2-bca7-2b47db4de8b2"
      },
      "outputs": [
        {
          "output_type": "stream",
          "name": "stdout",
          "text": [
            "2023-04-04 14:50:00+00:00\n",
            "./hms_fire20230404.zip\n",
            "hms_fire20230404.zip already exists\n"
          ]
        }
      ],
      "source": [
        "dt_str = '2023/04/04 14:50'\n",
        "dt = pytz.utc.localize(datetime.strptime(dt_str, '%Y/%m/%d %H:%M'))\n",
        "print(dt)\n",
        "#get_frp(dt, \"/home/rey/projects/GOES_FRP/frp_shapefiles/\")\n",
        "frp = get_frp(dt, \"./\")\n",
        "\n",
        "## Clean out the -999 FRP values\n",
        "frp = frp[frp.FRP != -999]\n",
        "\n",
        "## Set a lat/lon cutoff\n",
        "frp = frp[frp.Lon <= -105]\n",
        "frp = frp[frp.Lat <= 48]\n",
        "frp = frp[frp.Lat >= 30]"
      ]
    },
    {
      "cell_type": "code",
      "execution_count": 20,
      "id": "5e0737e5-4900-461e-b124-d33c8c9b8988",
      "metadata": {
        "colab": {
          "base_uri": "https://localhost:8080/",
          "height": 1000
        },
        "id": "5e0737e5-4900-461e-b124-d33c8c9b8988",
        "outputId": "db5715e2-0586-4076-9622-bc73c9eb39aa"
      },
      "outputs": [
        {
          "output_type": "stream",
          "name": "stdout",
          "text": [
            "frp geodataframe:                Lon        Lat  YearDay  Time  Satellite Method  Ecosystem  \\\n",
            "2332  -119.126750  46.608402  2023094  0917  SUOMI NPP  VIIRS         38   \n",
            "2333  -119.119090  46.607929  2023094  0917  SUOMI NPP  VIIRS         38   \n",
            "2347  -120.611320  37.592503  2023094  0917  SUOMI NPP  VIIRS         43   \n",
            "2348  -120.604910  37.592010  2023094  0917  SUOMI NPP  VIIRS         43   \n",
            "2393  -119.122940  46.608345  2023094  1003    NOAA 20  VIIRS         38   \n",
            "...           ...        ...      ...   ...        ...    ...        ...   \n",
            "44667 -108.295227  30.649420  2023095  0110  GOES-EAST    FDC         40   \n",
            "44723 -117.190060  41.420158  2023095  0111  GOES-EAST    FDC         52   \n",
            "44725 -108.295235  30.649422  2023095  0111  GOES-EAST    FDC         40   \n",
            "44783 -108.295235  30.649422  2023095  0116  GOES-EAST    FDC         40   \n",
            "44839 -120.018590  46.507580  2023095  0120  GOES-EAST    FDC         52   \n",
            "\n",
            "          FRP                     geometry  \n",
            "2332    3.019   POINT (-119.12675 46.6084)  \n",
            "2333    3.019  POINT (-119.11909 46.60793)  \n",
            "2347    1.785   POINT (-120.61132 37.5925)  \n",
            "2348    1.785  POINT (-120.60491 37.59201)  \n",
            "2393    8.352  POINT (-119.12294 46.60834)  \n",
            "...       ...                          ...  \n",
            "44667  83.055  POINT (-108.29523 30.64942)  \n",
            "44723  44.950  POINT (-117.19006 41.42016)  \n",
            "44725  87.703  POINT (-108.29524 30.64942)  \n",
            "44783  53.380  POINT (-108.29524 30.64942)  \n",
            "44839  60.757  POINT (-120.01859 46.50758)  \n",
            "\n",
            "[210 rows x 9 columns]\n",
            "frp FRP:  2332      3.019\n",
            "2333      3.019\n",
            "2347      1.785\n",
            "2348      1.785\n",
            "2393      8.352\n",
            "          ...  \n",
            "44667    83.055\n",
            "44723    44.950\n",
            "44725    87.703\n",
            "44783    53.380\n",
            "44839    60.757\n",
            "Name: FRP, Length: 210, dtype: float64\n",
            "The  0.0  percentile is value is:  0.463\n",
            "The  0.1  percentile is value is:  2.3001\n",
            "The  0.2  percentile is value is:  3.345200000000001\n",
            "The  0.30000000000000004  percentile is value is:  5.256200000000001\n",
            "The  0.4  percentile is value is:  7.6884000000000015\n",
            "The  0.5  percentile is value is:  40.685\n",
            "The  0.6000000000000001  percentile is value is:  67.45140000000004\n",
            "The  0.7000000000000001  percentile is value is:  89.90939999999999\n",
            "The  0.8  percentile is value is:  132.4726\n",
            "The  0.9  percentile is value is:  171.3947\n",
            "The  1.0  percentile is value is:  352.52\n",
            "FRP max:  352.52\n",
            "FRP min:  0.463\n",
            "FRP mean:  67.61554285714286\n"
          ]
        },
        {
          "output_type": "execute_result",
          "data": {
            "text/plain": [
              "Text(0, 0.5, 'frequency')"
            ]
          },
          "metadata": {},
          "execution_count": 20
        },
        {
          "output_type": "display_data",
          "data": {
            "text/plain": [
              "<Figure size 640x480 with 1 Axes>"
            ],
            "image/png": "[encoded data removed]"
          },
          "metadata": {}
        }
      ],
      "source": [
        "## save frp into variable\n",
        "print('frp geodataframe: ', frp)\n",
        "print('frp FRP: ', frp.FRP)\n",
        "\n",
        "## find quantiles on the variable\n",
        "for p in np.arange(0,1.1,0.1):\n",
        "  p_value = frp.FRP.quantile(p)\n",
        "  print('The ', p, ' percentile is value is: ', p_value)\n",
        "#frp.FRP.quantile([0.25,0.5,0.75])\n",
        "print('FRP max: ', frp.FRP.max())\n",
        "print('FRP min: ', frp.FRP.min())\n",
        "print('FRP mean: ', frp.FRP.mean())\n",
        "\n",
        "## plot histogram\n",
        "plt.hist(frp.FRP, bins=30, edgecolor='black')\n",
        "plt.title('Histogram of FRP values')\n",
        "plt.xlabel('FRP')\n",
        "plt.ylabel('frequency')"
      ]
    },
    {
      "cell_type": "code",
      "source": [
        "## Drop FRP based on lower [SPECIFY] percentile\n",
        "quant_thresh = 0.25\n",
        "frp = frp[frp.FRP >= frp.FRP.quantile(quant_thresh)]\n",
        "\n",
        "## plot histogram\n",
        "plt.hist(frp.FRP, bins=30, edgecolor='black')\n",
        "plt.title('Histogram of FRP Above Threshold')\n",
        "plt.xlabel('FRP')\n",
        "plt.ylabel('frequency')"
      ],
      "metadata": {
        "colab": {
          "base_uri": "https://localhost:8080/",
          "height": 490
        },
        "id": "8H5201SaNfAH",
        "outputId": "aaab5272-c301-40ae-8b62-0216c465b554"
      },
      "id": "8H5201SaNfAH",
      "execution_count": 21,
      "outputs": [
        {
          "output_type": "execute_result",
          "data": {
            "text/plain": [
              "Text(0, 0.5, 'frequency')"
            ]
          },
          "metadata": {},
          "execution_count": 21
        },
        {
          "output_type": "display_data",
          "data": {
            "text/plain": [
              "<Figure size 640x480 with 1 Axes>"
            ],
            "image/png": "[encoded data removed]"
          },
          "metadata": {}
        }
      ]
    }
  ],
  "metadata": {
    "kernelspec": {
      "display_name": "ray",
      "language": "python",
      "name": "ray"
    },
    "language_info": {
      "codemirror_mode": {
        "name": "ipython",
        "version": 3
      },
      "file_extension": ".py",
      "mimetype": "text/x-python",
      "name": "python",
      "nbconvert_exporter": "python",
      "pygments_lexer": "ipython3",
      "version": "3.11.9"
    },
    "colab": {
      "provenance": [],
      "include_colab_link": true
    }
  },
  "nbformat": 4,
  "nbformat_minor": 5
}