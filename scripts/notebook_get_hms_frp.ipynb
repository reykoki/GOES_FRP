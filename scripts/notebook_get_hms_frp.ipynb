{
  "cells": [
    {
      "cell_type": "markdown",
      "metadata": {
        "id": "view-in-github",
        "colab_type": "text"
      },
      "source": [
        "<a href=\"https://colab.research.google.com/github/purpal9/goesFRP_ukmet/blob/main/notebook_get_hms_frp.ipynb\" target=\"_parent\"><img src=\"https://colab.research.google.com/assets/colab-badge.svg\" alt=\"Open In Colab\"/></a>"
      ]
    },
    {
      "cell_type": "code",
      "source": [
        "!pip install wget"
      ],
      "metadata": {
        "colab": {
          "base_uri": "https://localhost:8080/"
        },
        "id": "CBcsLd3n-m6n",
        "outputId": "7542f81b-0450-49bb-dfd5-ef378f3eb561"
      },
      "id": "CBcsLd3n-m6n",
      "execution_count": 3,
      "outputs": [
        {
          "output_type": "stream",
          "name": "stdout",
          "text": [
            "Collecting wget\n",
            "  Downloading wget-3.2.zip (10 kB)\n",
            "  Preparing metadata (setup.py) ... \u001b[?25l\u001b[?25hdone\n",
            "Building wheels for collected packages: wget\n",
            "  Building wheel for wget (setup.py) ... \u001b[?25l\u001b[?25hdone\n",
            "  Created wheel for wget: filename=wget-3.2-py3-none-any.whl size=9656 sha256=24d71f3fbb0deb433c92232a5d51f40d685cafa5a4a968e6f2ec7b0a71e33159\n",
            "  Stored in directory: /root/.cache/pip/wheels/40/b3/0f/a40dbd1c6861731779f62cc4babcb234387e11d697df70ee97\n",
            "Successfully built wget\n",
            "Installing collected packages: wget\n",
            "Successfully installed wget-3.2\n"
          ]
        }
      ]
    },
    {
      "cell_type": "code",
      "execution_count": 25,
      "id": "048911f1-d7d7-4594-9a34-8f4388326b1c",
      "metadata": {
        "id": "048911f1-d7d7-4594-9a34-8f4388326b1c"
      },
      "outputs": [],
      "source": [
        "import geopandas\n",
        "import pytz\n",
        "from datetime import datetime\n",
        "import os\n",
        "import shutil\n",
        "import wget\n",
        "import numpy as np\n",
        "import matplotlib.pyplot as plt"
      ]
    },
    {
      "cell_type": "code",
      "execution_count": 5,
      "id": "37d8aa4f-d8f7-4b01-b1ad-11b01518c68b",
      "metadata": {
        "id": "37d8aa4f-d8f7-4b01-b1ad-11b01518c68b"
      },
      "outputs": [],
      "source": [
        "def get_frp_fn_url(dt):\n",
        "    tt = dt.timetuple()\n",
        "    month = str(tt.tm_mon).zfill(2)\n",
        "    day = str(tt.tm_mday).zfill(2)\n",
        "    yr = str(tt.tm_year)\n",
        "    fn = 'hms_fire{}{}{}.zip'.format(yr, month, day)\n",
        "    url = 'https://satepsanone.nesdis.noaa.gov/pub/FIRE/web/HMS/Fire_Points/Shapefile/{}/{}/{}'.format(yr, month, fn)\n",
        "    return fn, url"
      ]
    },
    {
      "cell_type": "code",
      "execution_count": 6,
      "id": "8878db85-b0e6-44a7-a895-ea83c8650624",
      "metadata": {
        "id": "8878db85-b0e6-44a7-a895-ea83c8650624"
      },
      "outputs": [],
      "source": [
        "def get_frp(dt, frp_dir):\n",
        "    fn, url = get_frp_fn_url(dt)\n",
        "    frp_shape_fn = frp_dir + fn\n",
        "    print(frp_shape_fn)\n",
        "    if os.path.exists(frp_shape_fn):\n",
        "        print(\"{} already exists\".format(fn))\n",
        "    else:\n",
        "        print('DOWNLOADING frp: {}'.format(fn))\n",
        "        filename = wget.download(url, out=frp_dir)\n",
        "        shutil.unpack_archive(filename, frp_dir)\n",
        "    frp = geopandas.read_file(frp_shape_fn)\n",
        "    return frp\n"
      ]
    },
    {
      "cell_type": "code",
      "execution_count": 37,
      "id": "7879ebdd-23ff-414f-9a97-04663bf4902b",
      "metadata": {
        "colab": {
          "base_uri": "https://localhost:8080/"
        },
        "id": "7879ebdd-23ff-414f-9a97-04663bf4902b",
        "outputId": "45a35b89-ba55-48e5-d6ea-a8e14a6502b0"
      },
      "outputs": [
        {
          "output_type": "stream",
          "name": "stdout",
          "text": [
            "2023-04-04 14:50:00+00:00\n",
            "./hms_fire20230404.zip\n",
            "hms_fire20230404.zip already exists\n"
          ]
        }
      ],
      "source": [
        "dt_str = '2023/04/04 14:50'\n",
        "dt = pytz.utc.localize(datetime.strptime(dt_str, '%Y/%m/%d %H:%M'))\n",
        "print(dt)\n",
        "#get_frp(dt, \"/home/rey/projects/GOES_FRP/frp_shapefiles/\")\n",
        "frp = get_frp(dt, \"./\")\n",
        "\n",
        "## Clean out the -999 FRP values\n",
        "frp = frp[frp.FRP != -999]\n",
        "\n",
        "## Set a lon cutoff\n",
        "frp = frp[frp.Lon <= -105]"
      ]
    },
    {
      "cell_type": "code",
      "execution_count": 38,
      "id": "5e0737e5-4900-461e-b124-d33c8c9b8988",
      "metadata": {
        "colab": {
          "base_uri": "https://localhost:8080/",
          "height": 1000
        },
        "id": "5e0737e5-4900-461e-b124-d33c8c9b8988",
        "outputId": "d77c1092-c8de-4c24-de87-fe7464f7afed"
      },
      "outputs": [
        {
          "output_type": "stream",
          "name": "stdout",
          "text": [
            "frp geodataframe:                Lon        Lat  YearDay  Time  Satellite Method  Ecosystem  \\\n",
            "56    -105.198390  20.285347  2023094  0600  GOES-EAST    FDC         56   \n",
            "65    -105.198387  20.285351  2023094  0601  GOES-EAST    FDC         56   \n",
            "81    -105.198387  20.285347  2023094  0610  GOES-EAST    FDC         56   \n",
            "90    -105.198387  20.285351  2023094  0611  GOES-EAST    FDC         56   \n",
            "99    -105.198387  20.285351  2023094  0616  GOES-EAST    FDC         56   \n",
            "...           ...        ...      ...   ...        ...    ...        ...   \n",
            "44725 -108.295235  30.649422  2023095  0111  GOES-EAST    FDC         40   \n",
            "44783 -108.295235  30.649422  2023095  0116  GOES-EAST    FDC         40   \n",
            "44839 -120.018590  46.507580  2023095  0120  GOES-EAST    FDC         52   \n",
            "45578 -105.198387  20.285351  2023095  0206  GOES-EAST    FDC         56   \n",
            "45802 -105.214470  20.347036  2023095  0221  GOES-EAST    FDC         24   \n",
            "\n",
            "          FRP                     geometry  \n",
            "56     56.507  POINT (-105.19839 20.28535)  \n",
            "65     45.103  POINT (-105.19839 20.28535)  \n",
            "81     49.549  POINT (-105.19839 20.28535)  \n",
            "90     42.668  POINT (-105.19839 20.28535)  \n",
            "99     43.202  POINT (-105.19839 20.28535)  \n",
            "...       ...                          ...  \n",
            "44725  87.703  POINT (-108.29524 30.64942)  \n",
            "44783  53.380  POINT (-108.29524 30.64942)  \n",
            "44839  60.757  POINT (-120.01859 46.50758)  \n",
            "45578  42.740  POINT (-105.19839 20.28535)  \n",
            "45802  29.300  POINT (-105.21447 20.34704)  \n",
            "\n",
            "[438 rows x 9 columns]\n",
            "frp FRP:  56       56.507\n",
            "65       45.103\n",
            "81       49.549\n",
            "90       42.668\n",
            "99       43.202\n",
            "          ...  \n",
            "44725    87.703\n",
            "44783    53.380\n",
            "44839    60.757\n",
            "45578    42.740\n",
            "45802    29.300\n",
            "Name: FRP, Length: 438, dtype: float64\n",
            "The  0.0  percentile is value is:  0.2\n",
            "The  0.1  percentile is value is:  1.3944\n",
            "The  0.2  percentile is value is:  2.7256\n",
            "The  0.30000000000000004  percentile is value is:  4.305\n",
            "The  0.4  percentile is value is:  6.185600000000001\n",
            "The  0.5  percentile is value is:  9.6135\n",
            "The  0.6000000000000001  percentile is value is:  41.3268\n",
            "The  0.7000000000000001  percentile is value is:  58.53299999999999\n",
            "The  0.8  percentile is value is:  88.05760000000001\n",
            "The  0.9  percentile is value is:  146.95020000000005\n",
            "The  1.0  percentile is value is:  352.52\n",
            "FRP max:  352.52\n",
            "FRP min:  0.2\n",
            "FRP mean:  49.41124885844748\n"
          ]
        },
        {
          "output_type": "execute_result",
          "data": {
            "text/plain": [
              "Text(0, 0.5, 'frequency')"
            ]
          },
          "metadata": {},
          "execution_count": 38
        },
        {
          "output_type": "display_data",
          "data": {
            "text/plain": [
              "<Figure size 640x480 with 1 Axes>"
            ],
            "image/png": "[encoded data removed]"
          },
          "metadata": {}
        }
      ],
      "source": [
        "## save frp into variable\n",
        "print('frp geodataframe: ', frp)\n",
        "print('frp FRP: ', frp.FRP)\n",
        "\n",
        "## find quantiles on the variable\n",
        "for p in np.arange(0,1.1,0.1):\n",
        "  p_value = frp.FRP.quantile(p)\n",
        "  print('The ', p, ' percentile is value is: ', p_value)\n",
        "#frp.FRP.quantile([0.25,0.5,0.75])\n",
        "print('FRP max: ', frp.FRP.max())\n",
        "print('FRP min: ', frp.FRP.min())\n",
        "print('FRP mean: ', frp.FRP.mean())\n",
        "\n",
        "## plot histogram\n",
        "plt.hist(frp.FRP, bins=30, edgecolor='black')\n",
        "plt.title('Histogram of FRP values')\n",
        "plt.xlabel('FRP')\n",
        "plt.ylabel('frequency')"
      ]
    },
    {
      "cell_type": "code",
      "source": [
        "## Drop FRP based on lower [SPECIFY] percentile\n",
        "quant_thresh = 0.25\n",
        "frp = frp[frp.FRP >= frp.FRP.quantile(quant_thresh)]\n",
        "\n",
        "## plot histogram\n",
        "plt.hist(frp.FRP, bins=30, edgecolor='black')\n",
        "plt.title('Histogram of FRP Above Threshold')\n",
        "plt.xlabel('FRP')\n",
        "plt.ylabel('frequency')"
      ],
      "metadata": {
        "colab": {
          "base_uri": "https://localhost:8080/",
          "height": 489
        },
        "id": "8H5201SaNfAH",
        "outputId": "7b74e2de-c6c7-4927-ef8d-296b2cf0a982"
      },
      "id": "8H5201SaNfAH",
      "execution_count": 42,
      "outputs": [
        {
          "output_type": "execute_result",
          "data": {
            "text/plain": [
              "Text(0, 0.5, 'frequency')"
            ]
          },
          "metadata": {},
          "execution_count": 42
        },
        {
          "output_type": "display_data",
          "data": {
            "text/plain": [
              "<Figure size 640x480 with 1 Axes>"
            ],
            "image/png": "[encoded data removed]"
          },
          "metadata": {}
        }
      ]
    }
  ],
  "metadata": {
    "kernelspec": {
      "display_name": "ray",
      "language": "python",
      "name": "ray"
    },
    "language_info": {
      "codemirror_mode": {
        "name": "ipython",
        "version": 3
      },
      "file_extension": ".py",
      "mimetype": "text/x-python",
      "name": "python",
      "nbconvert_exporter": "python",
      "pygments_lexer": "ipython3",
      "version": "3.11.9"
    },
    "colab": {
      "provenance": [],
      "include_colab_link": true
    }
  },
  "nbformat": 4,
  "nbformat_minor": 5
}