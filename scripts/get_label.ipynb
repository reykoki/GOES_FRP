{
 "cells": [
  {
   "cell_type": "code",
   "execution_count": 98,
   "id": "048911f1-d7d7-4594-9a34-8f4388326b1c",
   "metadata": {},
   "outputs": [],
   "source": [
    "import geopandas\n",
    "import pytz\n",
    "from datetime import datetime\n",
    "import os\n",
    "import shutil\n",
    "import wget\n",
    "import cartopy.crs as ccrs\n",
    "from datetime import timedelta\n",
    "from matplotlib import pyplot as plt\n",
    "from PIL import Image, ImageOps\n",
    "import numpy as np"
   ]
  },
  {
   "cell_type": "code",
   "execution_count": 86,
   "id": "d8e4a997-062b-486f-a381-447001218cbf",
   "metadata": {},
   "outputs": [],
   "source": [
    "\n",
    "lcc_proj = ccrs.LambertConformal(central_longitude=262.5,\n",
    "                                 central_latitude=38.5,\n",
    "                                 standard_parallels=(38.5, 38.5),\n",
    "                                 globe=ccrs.Globe(semimajor_axis=6371229,\n",
    "                                                  semiminor_axis=6371229))"
   ]
  },
  {
   "cell_type": "code",
   "execution_count": 87,
   "id": "37d8aa4f-d8f7-4b01-b1ad-11b01518c68b",
   "metadata": {},
   "outputs": [],
   "source": [
    "def get_frp_fn_url(dt):\n",
    "    tt = dt.timetuple()\n",
    "    month = str(tt.tm_mon).zfill(2)\n",
    "    day = str(tt.tm_mday).zfill(2)\n",
    "    yr = str(tt.tm_year)\n",
    "    fn = 'hms_fire{}{}{}.zip'.format(yr, month, day)\n",
    "    url = 'https://satepsanone.nesdis.noaa.gov/pub/FIRE/web/HMS/Fire_Points/Shapefile/{}/{}/{}'.format(yr, month, fn)\n",
    "    return fn, url"
   ]
  },
  {
   "cell_type": "code",
   "execution_count": 88,
   "id": "8878db85-b0e6-44a7-a895-ea83c8650624",
   "metadata": {},
   "outputs": [],
   "source": [
    "def get_frp(dt, frp_dir):\n",
    "    fn, url = get_frp_fn_url(dt)\n",
    "    frp_shape_fn = frp_dir + fn\n",
    "    print(frp_shape_fn)\n",
    "    if os.path.exists(frp_shape_fn):\n",
    "        print(\"{} already exists\".format(fn))\n",
    "    else:\n",
    "        print('DOWNLOADING frp: {}'.format(fn))\n",
    "        filename = wget.download(url, out=frp_dir)\n",
    "        shutil.unpack_archive(filename, frp_dir)\n",
    "    frp = geopandas.read_file(frp_shape_fn)\n",
    "    return frp\n"
   ]
  },
  {
   "cell_type": "code",
   "execution_count": 89,
   "id": "7879ebdd-23ff-414f-9a97-04663bf4902b",
   "metadata": {},
   "outputs": [
    {
     "name": "stdout",
     "output_type": "stream",
     "text": [
      "2023-04-04 14:50:00+00:00\n",
      "/home/rey/projects/GOES_FRP/frp_shapefiles/hms_fire20230404.zip\n",
      "hms_fire20230404.zip already exists\n",
      "             Lon        Lat  YearDay  Time  Satellite Method  Ecosystem  \\\n",
      "0     -66.744949  18.077087  2023094  0506    NOAA 20  VIIRS         93   \n",
      "1     -68.066635  46.766396  2023094  0552  SUOMI NPP  VIIRS         30   \n",
      "2     -77.398834  26.739498  2023094  0558  SUOMI NPP  VIIRS         93   \n",
      "3     -77.392616  26.739120  2023094  0558  SUOMI NPP  VIIRS         93   \n",
      "4     -79.201447  21.899944  2023094  0558  SUOMI NPP  VIIRS         41   \n",
      "...          ...        ...      ...   ...        ...    ...        ...   \n",
      "47270 -90.152489  19.113523  2023095  0556  GOES-EAST    FDC         34   \n",
      "47271 -90.048340  19.091976  2023095  0556  GOES-EAST    FDC         34   \n",
      "47272 -84.134743  15.025342  2023095  0556  GOES-EAST    FDC         22   \n",
      "47273 -80.857155  22.808207  2023095  0556  GOES-EAST    FDC         93   \n",
      "47274 -71.020760  18.985132  2023095  0556  GOES-EAST    FDC         13   \n",
      "\n",
      "          FRP                    geometry  \n",
      "0       2.219  POINT (-66.74495 18.07709)  \n",
      "1       6.170   POINT (-68.06664 46.7664)  \n",
      "2       1.732   POINT (-77.39883 26.7395)  \n",
      "3       1.379  POINT (-77.39262 26.73912)  \n",
      "4       1.362  POINT (-79.20145 21.89994)  \n",
      "...       ...                         ...  \n",
      "47270  29.181  POINT (-90.15249 19.11352)  \n",
      "47271  73.806  POINT (-90.04834 19.09198)  \n",
      "47272  22.093  POINT (-84.13474 15.02534)  \n",
      "47273  18.415  POINT (-80.85716 22.80821)  \n",
      "47274  58.470  POINT (-71.02076 18.98513)  \n",
      "\n",
      "[47275 rows x 9 columns]\n"
     ]
    }
   ],
   "source": [
    "dt_str = '2023/04/04 14:50'\n",
    "dt = pytz.utc.localize(datetime.strptime(dt_str, '%Y/%m/%d %H:%M'))\n",
    "print(dt)\n",
    "fire = get_frp(dt, \"/home/rey/projects/GOES_FRP/frp_shapefiles/\")\n",
    "print(fire)\n",
    "fire = fire.to_crs(lcc_proj)"
   ]
  },
  {
   "cell_type": "code",
   "execution_count": 90,
   "id": "0027bd85-168e-4421-94db-b538f62ee956",
   "metadata": {},
   "outputs": [],
   "source": [
    "def get_image_bounds(x, y, res=256, img_size=1000):\n",
    "    dist = int(img_size/2*res)\n",
    "    x_min = x - dist\n",
    "    x_max = x + dist\n",
    "    y_min = y - dist\n",
    "    y_max = y + dist\n",
    "    return x_min, x_max, y_min, y_max\n",
    "\n",
    "def get_relevant_fire_pts(fire, fire_pt_oi, img_size=256, res=1000):\n",
    "    #relevant indices within fire shapefile\n",
    "    print(fire_pt)\n",
    "    dt_oi = get_dt_from_fire_pt(fire_pt_oi)\n",
    "    x_oi = fire_pt_oi.geometry.x\n",
    "    y_oi = fire_pt_oi.geometry.y\n",
    "    rel_idx = []\n",
    "    x_min, x_max, y_min, y_max = get_image_bounds(x_oi, y_oi, res, img_size)\n",
    "    for idx, row in fire.iterrows():\n",
    "        dt = get_dt_from_fire_pt(row)\n",
    "        x = row.geometry.x\n",
    "        y = row.geometry.y\n",
    "        # if within bounds of GOES data input and time\n",
    "        if x_min < x and x_max > x and y_min < y and y_max > y and abs(dt_oi - dt) < timedelta(minutes=10):\n",
    "            rel_idx.append(idx)\n",
    "    rel_fire = fire.iloc[rel_idx]\n",
    "    return rel_fire\n",
    "    \n"
   ]
  },
  {
   "cell_type": "code",
   "execution_count": 91,
   "id": "68f8a8e5-72bb-425c-8e0d-528f2b57869b",
   "metadata": {},
   "outputs": [
    {
     "name": "stdout",
     "output_type": "stream",
     "text": [
      "Lon                                            -66.744949\n",
      "Lat                                             18.077087\n",
      "YearDay                                           2023094\n",
      "Time                                                 0506\n",
      "Satellite                                         NOAA 20\n",
      "Method                                              VIIRS\n",
      "Ecosystem                                              93\n",
      "FRP                                                 2.219\n",
      "geometry     POINT (3386999.994924295 -1746293.490533073)\n",
      "Name: 0, dtype: object\n"
     ]
    }
   ],
   "source": [
    "def get_dt_from_fire_pt(fire_pt):\n",
    "    yr_dn_utc = '{}{}'.format(fire_pt['YearDay'], fire_pt['Time'])\n",
    "    return pytz.utc.localize(datetime.strptime(yr_dn_utc, '%Y%j%H%M'))\n",
    "fire_head = fire.head(5)\n",
    "fire_pt_oi = fire.iloc[2]\n",
    "dt = get_dt_from_fire_pt(fire_pt_oi)\n",
    "rel_fire = get_relevant_fire_pts(fire_head, fire_pt_oi)    \n",
    "#print(fire_pt_oi)"
   ]
  },
  {
   "cell_type": "code",
   "execution_count": 92,
   "id": "6fea8cd3-42aa-4b7c-8180-1095ec400ffd",
   "metadata": {},
   "outputs": [
    {
     "data": {
      "text/html": [
       "<div>\n",
       "<style scoped>\n",
       "    .dataframe tbody tr th:only-of-type {\n",
       "        vertical-align: middle;\n",
       "    }\n",
       "\n",
       "    .dataframe tbody tr th {\n",
       "        vertical-align: top;\n",
       "    }\n",
       "\n",
       "    .dataframe thead th {\n",
       "        text-align: right;\n",
       "    }\n",
       "</style>\n",
       "<table border=\"1\" class=\"dataframe\">\n",
       "  <thead>\n",
       "    <tr style=\"text-align: right;\">\n",
       "      <th></th>\n",
       "      <th>Lon</th>\n",
       "      <th>Lat</th>\n",
       "      <th>YearDay</th>\n",
       "      <th>Time</th>\n",
       "      <th>Satellite</th>\n",
       "      <th>Method</th>\n",
       "      <th>Ecosystem</th>\n",
       "      <th>FRP</th>\n",
       "      <th>geometry</th>\n",
       "    </tr>\n",
       "  </thead>\n",
       "  <tbody>\n",
       "    <tr>\n",
       "      <th>2</th>\n",
       "      <td>-77.398834</td>\n",
       "      <td>26.739498</td>\n",
       "      <td>2023094</td>\n",
       "      <td>0558</td>\n",
       "      <td>SUOMI NPP</td>\n",
       "      <td>VIIRS</td>\n",
       "      <td>93</td>\n",
       "      <td>1.732</td>\n",
       "      <td>POINT (2020714.909 -1095143.375)</td>\n",
       "    </tr>\n",
       "    <tr>\n",
       "      <th>3</th>\n",
       "      <td>-77.392616</td>\n",
       "      <td>26.739120</td>\n",
       "      <td>2023094</td>\n",
       "      <td>0558</td>\n",
       "      <td>SUOMI NPP</td>\n",
       "      <td>VIIRS</td>\n",
       "      <td>93</td>\n",
       "      <td>1.379</td>\n",
       "      <td>POINT (2021339.309 -1095048.708)</td>\n",
       "    </tr>\n",
       "  </tbody>\n",
       "</table>\n",
       "</div>"
      ],
      "text/plain": [
       "         Lon        Lat  YearDay  Time  Satellite Method  Ecosystem    FRP  \\\n",
       "2 -77.398834  26.739498  2023094  0558  SUOMI NPP  VIIRS         93  1.732   \n",
       "3 -77.392616  26.739120  2023094  0558  SUOMI NPP  VIIRS         93  1.379   \n",
       "\n",
       "                           geometry  \n",
       "2  POINT (2020714.909 -1095143.375)  \n",
       "3  POINT (2021339.309 -1095048.708)  "
      ]
     },
     "execution_count": 92,
     "metadata": {},
     "output_type": "execute_result"
    }
   ],
   "source": [
    "rel_fire"
   ]
  },
  {
   "cell_type": "code",
   "execution_count": 109,
   "id": "51e70b51-b564-457a-8bd4-5658a29677b8",
   "metadata": {},
   "outputs": [
    {
     "name": "stdout",
     "output_type": "stream",
     "text": [
      "<PIL.Image.Image image mode=1 size=256x256 at 0x7FAA8EB78090>\n"
     ]
    },
    {
     "data": {
      "image/png": "[encoded data removed]",
      "text/plain": [
       "<Figure size 640x480 with 1 Axes>"
      ]
     },
     "metadata": {},
     "output_type": "display_data"
    }
   ],
   "source": [
    "def plot_label(fire_pt_oi, rel_fire, img_shape=256):\n",
    "    x_oi = fire_pt_oi.geometry.x\n",
    "    y_oi = fire_pt_oi.geometry.y\n",
    "    x_min, x_max, y_min, y_max = get_image_bounds(x_oi, y_oi)\n",
    "    fig = plt.figure(figsize=(img_shape/100, img_shape/100), dpi=100)\n",
    "    ax = fig.add_subplot(1, 1, 1, projection=lcc_proj)\n",
    "    rel_fire.plot(ax=ax, facecolor='black')\n",
    "    ax.set_xlim(x_min, x_max)\n",
    "    ax.set_ylim(y_min, y_max)\n",
    "    ax.axis('off')\n",
    "    plt.subplots_adjust(top = 1, bottom = 0, right = 1, left = 0, hspace = 0, wspace = 0)\n",
    "    plt.margins(0,0)\n",
    "    png_fn = 'temp.png'\n",
    "    plt.savefig(png_fn, dpi=100)\n",
    "    plt.close(fig)\n",
    "    img = Image.open(png_fn)\n",
    "    bw = img.convert('1')\n",
    "    bw = ImageOps.invert(bw)\n",
    "    plt.imshow(bw)\n",
    "    #plt.show(bw)\n",
    "    print(bw)\n",
    "    truth = np.asarray(bw).astype('i')\n",
    "    #os.remove(png_fn)\n",
    "    \n",
    "plot_label(fire_pt_oi, rel_fire)"
   ]
  },
  {
   "cell_type": "code",
   "execution_count": 25,
   "id": "5e0737e5-4900-461e-b124-d33c8c9b8988",
   "metadata": {},
   "outputs": [],
   "source": [
    "dt = get_dt_from_fire_pt(fire.iloc[0])\n",
    "dt2 = get_dt_from_fire_pt(fire.iloc[1])\n"
   ]
  },
  {
   "cell_type": "code",
   "execution_count": 27,
   "id": "6bff1184-cc40-4687-a082-a2755546d5ff",
   "metadata": {},
   "outputs": [
    {
     "data": {
      "text/plain": [
       "datetime.timedelta(seconds=2760)"
      ]
     },
     "execution_count": 27,
     "metadata": {},
     "output_type": "execute_result"
    }
   ],
   "source": [
    "abs(dt-dt2)\n"
   ]
  },
  {
   "cell_type": "code",
   "execution_count": 34,
   "id": "854fada7-6be8-40ec-9396-d6c9602c2712",
   "metadata": {},
   "outputs": [
    {
     "data": {
      "text/plain": [
       "Lon                                            -66.744949\n",
       "Lat                                             18.077087\n",
       "YearDay                                           2023094\n",
       "Time                                                 0506\n",
       "Satellite                                         NOAA 20\n",
       "Method                                              VIIRS\n",
       "Ecosystem                                              93\n",
       "FRP                                                 2.219\n",
       "geometry     POINT (3386999.994924295 -1746293.490533073)\n",
       "Name: 0, dtype: object"
      ]
     },
     "execution_count": 34,
     "metadata": {},
     "output_type": "execute_result"
    }
   ],
   "source": [
    "fire_pt_oi"
   ]
  },
  {
   "cell_type": "code",
   "execution_count": 36,
   "id": "b53692a6-ea75-4ae9-9f45-f23a27e35658",
   "metadata": {},
   "outputs": [
    {
     "data": {
      "text/plain": [
       "3386999.994924295"
      ]
     },
     "execution_count": 36,
     "metadata": {},
     "output_type": "execute_result"
    }
   ],
   "source": [
    "fire_pt_oi.geometry.x"
   ]
  },
  {
   "cell_type": "code",
   "execution_count": null,
   "id": "6ee618b5-d503-4a94-b179-62c51c37a8d3",
   "metadata": {},
   "outputs": [],
   "source": []
  }
 ],
 "metadata": {
  "kernelspec": {
   "display_name": "ray",
   "language": "python",
   "name": "ray"
  },
  "language_info": {
   "codemirror_mode": {
    "name": "ipython",
    "version": 3
   },
   "file_extension": ".py",
   "mimetype": "text/x-python",
   "name": "python",
   "nbconvert_exporter": "python",
   "pygments_lexer": "ipython3",
   "version": "3.11.9"
  }
 },
 "nbformat": 4,
 "nbformat_minor": 5
}
